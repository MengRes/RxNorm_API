{
 "cells": [
  {
   "cell_type": "code",
   "execution_count": 1,
   "metadata": {},
   "outputs": [
    {
     "name": "stdout",
     "output_type": "stream",
     "text": [
      "RxNORM code for aricept: 135446\n"
     ]
    }
   ],
   "source": [
    "import requests\n",
    "\n",
    "def get_rxnorm_code(drug_name):\n",
    "    base_url = \"https://rxnav.nlm.nih.gov/REST/rxcui.json\"\n",
    "    params = {\n",
    "        \"name\": drug_name\n",
    "    }\n",
    "\n",
    "    response = requests.get(base_url, params=params)\n",
    "\n",
    "    if response.status_code == 200:\n",
    "        data = response.json()\n",
    "        if \"idGroup\" in data:\n",
    "            if \"rxnormId\" in data[\"idGroup\"]:\n",
    "                rxnorm_code = data[\"idGroup\"][\"rxnormId\"][0]\n",
    "                return rxnorm_code\n",
    "    else:\n",
    "        print(\"Error: Failed to retrieve RxNORM code.\")\n",
    "\n",
    "    return None\n",
    "\n",
    "# example\n",
    "drug_name = \"aricept\"\n",
    "rxnorm_code = get_rxnorm_code(drug_name)\n",
    "if rxnorm_code:\n",
    "    print(f\"RxNORM code for {drug_name}: {rxnorm_code}\")\n",
    "else:\n",
    "    print(\"RxNORM code not found.\")"
   ]
  }
 ],
 "metadata": {
  "kernelspec": {
   "display_name": "python38",
   "language": "python",
   "name": "python3"
  },
  "language_info": {
   "codemirror_mode": {
    "name": "ipython",
    "version": 3
   },
   "file_extension": ".py",
   "mimetype": "text/x-python",
   "name": "python",
   "nbconvert_exporter": "python",
   "pygments_lexer": "ipython3",
   "version": "3.8.10"
  },
  "orig_nbformat": 4
 },
 "nbformat": 4,
 "nbformat_minor": 2
}
